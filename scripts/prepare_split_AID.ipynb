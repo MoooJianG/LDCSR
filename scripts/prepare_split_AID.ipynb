{
 "cells": [
  {
   "cell_type": "code",
   "execution_count": 3,
   "metadata": {},
   "outputs": [],
   "source": [
    "import pickle, os\n",
    "import cv2\n",
    "import numpy as np\n",
    "with open(\"../data/AID_split.pkl\", 'rb') as f:\n",
    "    split = pickle.load(f)\n",
    "\n",
    "data_path = \"/root/autodl-tmp/SRDataset/AID\"\n",
    "rslt_path = \"/root/autodl-tmp/SRDataset/AID_split\"\n",
    "import tqdm"
   ]
  },
  {
   "cell_type": "code",
   "execution_count": 4,
   "metadata": {},
   "outputs": [
    {
     "name": "stderr",
     "output_type": "stream",
     "text": [
      "preparing train:   0%|          | 0/8000 [00:00<?, ?it/s]"
     ]
    },
    {
     "name": "stderr",
     "output_type": "stream",
     "text": [
      "preparing train:   4%|▎         | 284/8000 [00:09<03:21, 38.26it/s]Corrupt JPEG data: premature end of data segment\n",
      "preparing train: 100%|██████████| 8000/8000 [03:18<00:00, 40.38it/s]\n",
      "preparing val: 100%|██████████| 1000/1000 [00:23<00:00, 42.73it/s]\n",
      "preparing test: 100%|██████████| 1000/1000 [00:23<00:00, 42.72it/s]\n"
     ]
    }
   ],
   "source": [
    "for split_name, split_list in split.items():\n",
    "    hr_folder = os.path.join(rslt_path,split_name, \"HR\")\n",
    "\n",
    "    if not os.path.exists(hr_folder):\n",
    "        os.makedirs(hr_folder)\n",
    "\n",
    "    for filename in tqdm.tqdm(split_list, desc=f\"preparing {split_name}\"):\n",
    "        file_path = os.path.join(data_path, filename)\n",
    "        hr = cv2.imread(file_path)\n",
    "        hr = cv2.cvtColor(hr, cv2.COLOR_BGR2RGB)\n",
    "        _filename = os.path.basename(filename).replace(\".jpg\", \".png\")\n",
    "        _hr_path = os.path.join(hr_folder, _filename)\n",
    "        cv2.imwrite(_hr_path, hr)"
   ]
  },
  {
   "cell_type": "code",
   "execution_count": 3,
   "metadata": {},
   "outputs": [],
   "source": [
    "from PIL import Image\n",
    "def resize_pillow(img, scale=None, size=None, mode=\"bicubic\"):\n",
    "    assert scale or size\n",
    "    if type(img) == np.ndarray:\n",
    "        h, w = img.shape[0:2]\n",
    "    else:\n",
    "        h, w = img.size[0:2]\n",
    "    if not size:\n",
    "        size = (int(h * scale), int(w * scale))\n",
    "\n",
    "    size = (size[1], size[0])\n",
    "    to_numpy_flag = 0\n",
    "    if type(img) == np.ndarray:\n",
    "        to_numpy_flag = 1\n",
    "        img = Image.fromarray(img)\n",
    "\n",
    "    interpolation = {\n",
    "        \"bicubic\": Image.BICUBIC,\n",
    "        \"bilinear\": Image.BILINEAR,\n",
    "        \"nearest\": Image.NEAREST,\n",
    "    }[mode]\n",
    "\n",
    "    img = img.resize(size, resample=interpolation)\n",
    "    if to_numpy_flag:\n",
    "        img = np.array(img)\n",
    "\n",
    "    return img"
   ]
  },
  {
   "cell_type": "code",
   "execution_count": 8,
   "metadata": {},
   "outputs": [
    {
     "name": "stderr",
     "output_type": "stream",
     "text": [
      "preparing train:   4%|▎         | 284/8000 [00:10<05:01, 25.61it/s]Corrupt JPEG data: premature end of data segment\n",
      "preparing train: 100%|██████████| 8000/8000 [05:13<00:00, 25.54it/s]\n",
      "preparing val: 100%|██████████| 1000/1000 [00:43<00:00, 23.14it/s]\n",
      "preparing test: 100%|██████████| 1000/1000 [00:42<00:00, 23.52it/s]\n"
     ]
    }
   ],
   "source": [
    "scale = 4\n",
    "for split_name, split_list in split.items():\n",
    "    split_path = os.path.join(rslt_path, split_name)\n",
    "    lr_folder = os.path.join(split_path, \"LR\")\n",
    "    hr_folder = os.path.join(split_path, \"HR\")\n",
    "\n",
    "    if not os.path.exists(lr_folder):\n",
    "        os.makedirs(lr_folder)\n",
    "    if not os.path.exists(hr_folder):\n",
    "        os.makedirs(hr_folder)\n",
    "\n",
    "    for filename in tqdm.tqdm(split_list, desc=f\"preparing {split_name}\"):\n",
    "        file_path = os.path.join(data_path, filename)\n",
    "        hr = cv2.imread(file_path)\n",
    "        hr = cv2.cvtColor(hr, cv2.COLOR_BGR2RGB)\n",
    "\n",
    "        # resize\n",
    "        lr = resize_pillow(hr, 1/4)\n",
    "\n",
    "        _filename = os.path.basename(filename).replace(\".jpg\", \".png\")\n",
    "    \n",
    "        _lr_path = os.path.join(lr_folder, _filename)\n",
    "        _hr_path = os.path.join(hr_folder, _filename)\n",
    "\n",
    "        cv2.imwrite(_lr_path, lr)\n",
    "        cv2.imwrite(_hr_path, hr)"
   ]
  }
 ],
 "metadata": {
  "kernelspec": {
   "display_name": "Python 3",
   "language": "python",
   "name": "python3"
  },
  "language_info": {
   "codemirror_mode": {
    "name": "ipython",
    "version": 3
   },
   "file_extension": ".py",
   "mimetype": "text/x-python",
   "name": "python",
   "nbconvert_exporter": "python",
   "pygments_lexer": "ipython3",
   "version": "3.10.11"
  }
 },
 "nbformat": 4,
 "nbformat_minor": 2
}
